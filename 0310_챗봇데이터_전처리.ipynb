{
  "nbformat": 4,
  "nbformat_minor": 0,
  "metadata": {
    "colab": {
      "name": "0310_챗봇데이터 전처리.ipynb",
      "private_outputs": true,
      "provenance": [],
      "mount_file_id": "1d-smYlxpDaw2TIqsSgkvbcelNh66a4Pi",
      "authorship_tag": "ABX9TyN+9RrZacYHAP108Undu2YZ",
      "include_colab_link": true
    },
    "kernelspec": {
      "name": "python3",
      "display_name": "Python 3"
    }
  },
  "cells": [
    {
      "cell_type": "markdown",
      "metadata": {
        "id": "view-in-github",
        "colab_type": "text"
      },
      "source": [
        "<a href=\"https://colab.research.google.com/github/seoljincheol/DataAnalysis/blob/master/0310_%EC%B1%97%EB%B4%87%EB%8D%B0%EC%9D%B4%ED%84%B0_%EC%A0%84%EC%B2%98%EB%A6%AC.ipynb\" target=\"_parent\"><img src=\"https://colab.research.google.com/assets/colab-badge.svg\" alt=\"Open In Colab\"/></a>"
      ]
    },
    {
      "cell_type": "code",
      "metadata": {
        "id": "VtLnb5r1dRw2"
      },
      "source": [
        "from google.colab import drive\r\n",
        "drive.mount('/content/drive')"
      ],
      "execution_count": null,
      "outputs": []
    },
    {
      "cell_type": "code",
      "metadata": {
        "id": "uaH1XgJdjHQr"
      },
      "source": [
        "import pandas as pd"
      ],
      "execution_count": null,
      "outputs": []
    },
    {
      "cell_type": "markdown",
      "metadata": {
        "id": "B_fV2yuMQw6a"
      },
      "source": [
        "# 1. 한국어_연속적_대화_데이터셋"
      ]
    },
    {
      "cell_type": "code",
      "metadata": {
        "id": "bGXTI04QQwUj"
      },
      "source": [
        "df1 = pd.read_excel('/content/drive/MyDrive/AI HUB/한국어_연속적_대화_데이터셋.xlsx', header = 1)"
      ],
      "execution_count": null,
      "outputs": []
    },
    {
      "cell_type": "code",
      "metadata": {
        "id": "zoivSG67pkSl"
      },
      "source": [
        "df1 = df1.iloc[:,:3]\r\n",
        "df1.columns = ['dialog','talk','emo']\r\n",
        "df1.head()"
      ],
      "execution_count": null,
      "outputs": []
    },
    {
      "cell_type": "code",
      "metadata": {
        "id": "BI4jLNoOsBtS"
      },
      "source": [
        "# 전체 : 55628\r\n",
        "print(len(df1))"
      ],
      "execution_count": null,
      "outputs": []
    },
    {
      "cell_type": "code",
      "metadata": {
        "id": "URIeOtJd3Jya"
      },
      "source": [
        "# 대화셋 : 10000\r\n",
        "df1.dialog.value_counts()"
      ],
      "execution_count": null,
      "outputs": []
    },
    {
      "cell_type": "code",
      "metadata": {
        "id": "eUiR1O8Fl_oR"
      },
      "source": [
        "df1.emo.value_counts()"
      ],
      "execution_count": null,
      "outputs": []
    },
    {
      "cell_type": "code",
      "metadata": {
        "id": "1tIKCSE9dHkk"
      },
      "source": [
        "df1.emo.unique()"
      ],
      "execution_count": null,
      "outputs": []
    },
    {
      "cell_type": "code",
      "metadata": {
        "id": "UCtDJ8Mdk12c"
      },
      "source": [
        "df2 = df1[df1['emo']== '분노']\r\n",
        "df2.head()"
      ],
      "execution_count": null,
      "outputs": []
    },
    {
      "cell_type": "code",
      "metadata": {
        "id": "42O5B2FomwRg"
      },
      "source": [
        "a = df1[df1['emo'] == '분'].apply()"
      ],
      "execution_count": null,
      "outputs": []
    },
    {
      "cell_type": "code",
      "metadata": {
        "id": "jwsdZkAKqpYw"
      },
      "source": [
        "def function(df1):\r\n",
        "    if df1['emo'] == '분':\r\n",
        "        return \r\n",
        "    elif row[조건2대상] == 조건2:\r\n",
        "        return 결과2\r\n",
        "    else:\r\n",
        "        return "
      ],
      "execution_count": null,
      "outputs": []
    },
    {
      "cell_type": "code",
      "metadata": {
        "id": "HNtnYDUyqA8P"
      },
      "source": [
        "df1['emo'] = df.apply(function, axis = 1)"
      ],
      "execution_count": null,
      "outputs": []
    },
    {
      "cell_type": "code",
      "metadata": {
        "id": "0c37Tg8ymwde"
      },
      "source": [
        ""
      ],
      "execution_count": null,
      "outputs": []
    },
    {
      "cell_type": "code",
      "metadata": {
        "id": "33743RzFmVUt"
      },
      "source": [
        "for i in range(len(df2)):\r\n",
        "    if df2.emo[i] == '분노':\r\n",
        "        A.append(df2[i])\r\n",
        "        Q.append(df2[])"
      ],
      "execution_count": null,
      "outputs": []
    },
    {
      "cell_type": "code",
      "metadata": {
        "id": "ZR6gRY4pdRCV"
      },
      "source": [
        "list1 = ['중립','ㅈ중립','중림','ㄴ중립']\r\n",
        "list2 = ['행복']"
      ],
      "execution_count": null,
      "outputs": []
    },
    {
      "cell_type": "code",
      "metadata": {
        "id": "yHG-Fkkqzuey"
      },
      "source": [
        "df1[\"emo\"] = df1[\"emo\"].apply(lambda x: 1 if x in list1 else 2 if x in list2 else 0)\n",
        "df1.head()"
      ],
      "execution_count": null,
      "outputs": []
    },
    {
      "cell_type": "code",
      "metadata": {
        "id": "y3XMZnX64bld"
      },
      "source": [
        "df1['id'] = int('1')"
      ],
      "execution_count": null,
      "outputs": []
    },
    {
      "cell_type": "code",
      "metadata": {
        "id": "koKvy3u992aZ"
      },
      "source": [
        "for i in range(len(df1)-1):\r\n",
        "    if df1['id'][i+1] < df1['id'][i]:\r\n",
        "        df1[\"id\"][i+1] = df1['id'][i]"
      ],
      "execution_count": null,
      "outputs": []
    },
    {
      "cell_type": "code",
      "metadata": {
        "id": "zYRVsv9p8ZkJ"
      },
      "source": [
        "df1.tail(20)"
      ],
      "execution_count": null,
      "outputs": []
    },
    {
      "cell_type": "code",
      "metadata": {
        "id": "TMpXKyLXHH3e"
      },
      "source": [
        "df1.to_csv('/content/drive/MyDrive/chatbot/data/한국어_연속적_대화_데이터셋(작업중).csv')"
      ],
      "execution_count": null,
      "outputs": []
    },
    {
      "cell_type": "code",
      "metadata": {
        "id": "R0so-AZohC7E"
      },
      "source": [
        "df1 = pd.read_csv('/content/drive/MyDrive/chatbot/data/한국어_연속적_대화_데이터셋(작업중).csv')"
      ],
      "execution_count": null,
      "outputs": []
    },
    {
      "cell_type": "code",
      "metadata": {
        "id": "GFPfrPZnhOfK"
      },
      "source": [
        "df1.head()"
      ],
      "execution_count": null,
      "outputs": []
    },
    {
      "cell_type": "code",
      "metadata": {
        "id": "8ptQ9mgKFbEn"
      },
      "source": [
        "a = 1\r\n",
        "for i in range(len(df1)):\r\n",
        "    if df1.dialog[i] == 'S':\r\n",
        "        df1.id[i] = a\r\n",
        "        a += 1"
      ],
      "execution_count": null,
      "outputs": []
    },
    {
      "cell_type": "code",
      "metadata": {
        "id": "qmXZ81TVF-H-"
      },
      "source": [
        "df1. head(10)"
      ],
      "execution_count": null,
      "outputs": []
    },
    {
      "cell_type": "code",
      "metadata": {
        "id": "yLdN9nzQAWQ9"
      },
      "source": [
        "df2 = df1[['id','talk']]\r\n",
        "df2"
      ],
      "execution_count": null,
      "outputs": []
    },
    {
      "cell_type": "code",
      "metadata": {
        "id": "91gptp8oAojf"
      },
      "source": [
        "df3 = df2[:10]"
      ],
      "execution_count": null,
      "outputs": []
    },
    {
      "cell_type": "code",
      "metadata": {
        "id": "bYG5orLtCsjh"
      },
      "source": [
        "df3"
      ],
      "execution_count": null,
      "outputs": []
    },
    {
      "cell_type": "code",
      "metadata": {
        "id": "28SadxE63yws"
      },
      "source": [
        "A = []\r\n",
        "B = []\r\n",
        "a = 1\r\n",
        "for i in range(len(df3)):\r\n",
        "    if df3.id[i] == a:\r\n",
        "        A.append(df3.talk[])"
      ],
      "execution_count": null,
      "outputs": []
    },
    {
      "cell_type": "code",
      "metadata": {
        "id": "5rMg_qSJBWQ4"
      },
      "source": [
        "# 대화를 번갈아가며 넣기\r\n",
        "for i in range(int(len(df3)/2)):\r\n",
        "    A.append(df3.talk[2*i])\r\n",
        "    B.append(df3.talk[2*i + 1])"
      ],
      "execution_count": null,
      "outputs": []
    },
    {
      "cell_type": "code",
      "metadata": {
        "id": "2HdTNYTeCh29"
      },
      "source": [
        "for j in range(3):\r\n",
        "    for i in range(int(len(df3)/2)):\r\n",
        "        if df3.id[i] == j:\r\n",
        "            A.append(df3.talk[2*i])\r\n",
        "            B.append(df3.talk[2*i + 1])"
      ],
      "execution_count": null,
      "outputs": []
    },
    {
      "cell_type": "code",
      "metadata": {
        "id": "3iCOv2OoBHrL"
      },
      "source": [
        "C = []\r\n",
        "D = []"
      ],
      "execution_count": null,
      "outputs": []
    },
    {
      "cell_type": "code",
      "metadata": {
        "id": "dn2E0wOL3Pls"
      },
      "source": [
        "for i in range(10000):\r\n",
        "    for j in range(len(df1)):\r\n",
        "        if df1.id[j] == i:\r\n",
        "            A.append(df1.talk[j])\r\n",
        "            B.append(df1.talk[j+1])\r\n",
        "        "
      ],
      "execution_count": null,
      "outputs": []
    },
    {
      "cell_type": "code",
      "metadata": {
        "id": "POZh-a3K3QGl"
      },
      "source": [
        ""
      ],
      "execution_count": null,
      "outputs": []
    },
    {
      "cell_type": "code",
      "metadata": {
        "id": "toIBkL93KsSB"
      },
      "source": [
        "text = df1.talk[-1:]"
      ],
      "execution_count": null,
      "outputs": []
    },
    {
      "cell_type": "code",
      "metadata": {
        "id": "ODf7m98yKxhn"
      },
      "source": [
        "df1.talk[0].split('')"
      ],
      "execution_count": null,
      "outputs": []
    },
    {
      "cell_type": "code",
      "metadata": {
        "id": "Q5oJ60cD2jZZ"
      },
      "source": [
        "import re\r\n",
        "print(re.split('. |! |? ', text))"
      ],
      "execution_count": null,
      "outputs": []
    },
    {
      "cell_type": "code",
      "metadata": {
        "id": "2DJnQPBbIPSd"
      },
      "source": [
        "q = []\r\n",
        "for i in range(len(df1)):\r\n",
        "    # q\r\n",
        "    if len(df1['talk'][i].split('.','!','?')) >= 2:    # '.'을 기준으로 문장이 2개 이상일 때\r\n",
        "        if len(df1['talk'][i].split('.')[0]) <= 3:     # 첫 문장이 3글자 이하일 때,\r\n",
        "            q.append(df1['talk'][i].split('.')[1])     # 두번째 문장을 q에 저장\r\n",
        "        else:\r\n",
        "            q.append(df1['talk'][i].split('.')[0])\r\n",
        "    else:\r\n",
        "        q.append(df1['talk'][i])"
      ],
      "execution_count": null,
      "outputs": []
    },
    {
      "cell_type": "code",
      "metadata": {
        "id": "6WavS2HSppYt"
      },
      "source": [
        "Q = []\r\n",
        "A = []\r\n",
        "\r\n",
        "for i in range(len(df1)):\r\n",
        "    \r\n",
        "    if df1.dialog[i] == 'S':\r\n",
        "        Q.append(df1.talk[i])\r\n",
        "        A.append(df1.talk[i+1])"
      ],
      "execution_count": null,
      "outputs": []
    },
    {
      "cell_type": "markdown",
      "metadata": {
        "id": "c8CzjF2IBjeQ"
      },
      "source": [
        "# 2. KETI_대화데이터_일상_오피스.txt"
      ]
    },
    {
      "cell_type": "code",
      "metadata": {
        "id": "rQl2ivzxqklg"
      },
      "source": [
        "# KETI_대화데이터_일상_오피스\r\n",
        "\r\n",
        "df2 = pd.read_csv('/content/drive/MyDrive/AI HUB/KETI_대화데이터_일상_오피스.txt', \r\n",
        "                  sep='\\t', header = None)\r\n",
        "\r\n",
        "Q = []\r\n",
        "A = []\r\n",
        "for i in range(len(df2)):\r\n",
        "    if df2[0][i] == 1:\r\n",
        "        Q.append(df2[1][i])\r\n",
        "    else:\r\n",
        "        A.append(df2[1][i])\r\n",
        "\r\n",
        "df2 = pd.DataFrame(A,Q)\r\n",
        "df2.to_csv('KETI_대화데이터_일상_오피스.csv', header=False)"
      ],
      "execution_count": null,
      "outputs": []
    },
    {
      "cell_type": "code",
      "metadata": {
        "id": "N4xAG_aGJeLV"
      },
      "source": [
        "df22 = pd.read_csv('KETI_대화데이터_일상_오피스.csv', header=None)\r\n",
        "df22"
      ],
      "execution_count": null,
      "outputs": []
    },
    {
      "cell_type": "code",
      "metadata": {
        "id": "edpZhEihKUPl"
      },
      "source": [
        "df22.columns = ['Q','A']\r\n",
        "df22.head()"
      ],
      "execution_count": null,
      "outputs": []
    },
    {
      "cell_type": "code",
      "metadata": {
        "id": "UCF1s5BHKdPX"
      },
      "source": [
        "df22.to_csv('/content/drive/MyDrive/chatbot/train_KETI_대화데이터_일상_오피스.csv')"
      ],
      "execution_count": null,
      "outputs": []
    },
    {
      "cell_type": "markdown",
      "metadata": {
        "id": "pyGV9avZjEEW"
      },
      "source": [
        "# 3-1. 트위터 대화세트"
      ]
    },
    {
      "cell_type": "code",
      "metadata": {
        "id": "dyKkkA7fjG_k"
      },
      "source": [
        "df_twit = pd.read_csv('/content/drive/MyDrive/chatbot/data/AI_hub_tt_train.csv')"
      ],
      "execution_count": null,
      "outputs": []
    },
    {
      "cell_type": "code",
      "metadata": {
        "id": "p_QfBTIZjHB7"
      },
      "source": [
        "df_twit.head()"
      ],
      "execution_count": null,
      "outputs": []
    },
    {
      "cell_type": "code",
      "metadata": {
        "id": "QyO1db8ujHG5"
      },
      "source": [
        "print(df_twit.info())\n",
        "print(df_twit['A'][6])\n",
        "print(len(df_twit['A'][6]))"
      ],
      "execution_count": null,
      "outputs": []
    },
    {
      "cell_type": "code",
      "metadata": {
        "id": "V1qr1cJrlVHY"
      },
      "source": [
        "df_twit['A'][6].split('.')"
      ],
      "execution_count": null,
      "outputs": []
    },
    {
      "cell_type": "code",
      "metadata": {
        "id": "9vYDEG4EqpCF"
      },
      "source": [
        "len(df_twit['A'][6].split('.'))"
      ],
      "execution_count": null,
      "outputs": []
    },
    {
      "cell_type": "code",
      "metadata": {
        "id": "4vRTekLPorfk"
      },
      "source": [
        "splitted_str = df_twit['A'][6].split('.')[:2]\r\n",
        "splitted_str"
      ],
      "execution_count": null,
      "outputs": []
    },
    {
      "cell_type": "code",
      "metadata": {
        "id": "OxbfEduao3QL"
      },
      "source": [
        "joined_str = \".\".join(splitted_str) \n",
        "joined_str"
      ],
      "execution_count": null,
      "outputs": []
    },
    {
      "cell_type": "code",
      "metadata": {
        "id": "OP_Bfr2Gquda"
      },
      "source": [
        "a = []\r\n",
        "for i in range(len(df_twit)):\r\n",
        "    if len(df_twit['A'][i].split('.')) >= 3:\r\n",
        "        a.append(\".\".join(df_twit['A'][i].split('.')[:2]))\r\n",
        "    else:\r\n",
        "        a.append(df_twit['A'][i])"
      ],
      "execution_count": null,
      "outputs": []
    },
    {
      "cell_type": "code",
      "metadata": {
        "id": "ddHTSYvrrj0t"
      },
      "source": [
        "a[:5]"
      ],
      "execution_count": null,
      "outputs": []
    },
    {
      "cell_type": "code",
      "metadata": {
        "id": "7P6vOsnMr3I7"
      },
      "source": [
        "len(a)"
      ],
      "execution_count": null,
      "outputs": []
    },
    {
      "cell_type": "code",
      "metadata": {
        "id": "9vXbwCiGsnHS"
      },
      "source": [
        "df_twit['a'] = a"
      ],
      "execution_count": null,
      "outputs": []
    },
    {
      "cell_type": "code",
      "metadata": {
        "id": "_38YGZKGstW6"
      },
      "source": [
        "df_twit.head()"
      ],
      "execution_count": null,
      "outputs": []
    },
    {
      "cell_type": "code",
      "metadata": {
        "id": "EUVkgU_jszyi"
      },
      "source": [
        "df = df_twit.drop('A', axis = 1)\r\n",
        "df.rename(columns = {\"a\": \"A\"}, inplace = True)\r\n",
        "df.head()"
      ],
      "execution_count": null,
      "outputs": []
    },
    {
      "cell_type": "code",
      "metadata": {
        "id": "jvLmxSD8vPBa"
      },
      "source": [
        "df.info()"
      ],
      "execution_count": null,
      "outputs": []
    },
    {
      "cell_type": "code",
      "metadata": {
        "id": "kDiHcSKzvENL"
      },
      "source": [
        "df.to_csv('/content/drive/MyDrive/chatbot/data/twit_data(1).csv')"
      ],
      "execution_count": null,
      "outputs": []
    },
    {
      "cell_type": "code",
      "metadata": {
        "id": "pBFwBhtdNMGf"
      },
      "source": [
        "df_twit = pd.read_csv('/content/drive/MyDrive/chatbot/data/AI_hub_tt_train.csv')"
      ],
      "execution_count": null,
      "outputs": []
    },
    {
      "cell_type": "code",
      "metadata": {
        "id": "rT6954i2NVtV"
      },
      "source": [
        "df_twit.head()"
      ],
      "execution_count": null,
      "outputs": []
    },
    {
      "cell_type": "markdown",
      "metadata": {
        "id": "msjolrgySJ-V"
      },
      "source": [
        "# 3-2. 트위터 대화세트 [1문장 / 4글자 이상]"
      ]
    },
    {
      "cell_type": "code",
      "metadata": {
        "id": "Gb4ObtFINdCt"
      },
      "source": [
        "q = []\r\n",
        "a = []\r\n",
        "\r\n",
        "\r\n",
        "for i in range(len(df_twit)):\r\n",
        "    # q\r\n",
        "    if len(df_twit['Q'][i].split('.')) >= 2:            # '.'을 기준으로 문장이 2개 이상일 때\r\n",
        "        if len(df_twit['Q'][i].split('.')[0]) <= 3:     # 첫 문장이 3글자 이하일 때,\r\n",
        "            q.append(df_twit['Q'][i].split('.')[1])     # 두번째 문장을 q에 저장\r\n",
        "        else:\r\n",
        "            q.append(df_twit['Q'][i].split('.')[0])\r\n",
        "    else:\r\n",
        "        q.append(df_twit['Q'][i])\r\n",
        "    # a\r\n",
        "    if len(df_twit['A'][i].split('.')) >= 2:\r\n",
        "        if len(df_twit['A'][i].split('.')[0]) <= 3:\r\n",
        "            a.append(df_twit['A'][i].split('.')[1])\r\n",
        "        else:\r\n",
        "            a.append(df_twit['A'][i].split('.')[0])\r\n",
        "    else:\r\n",
        "        a.append(df_twit['A'][i])\r\n",
        "\r\n",
        "df_twit['q'] = q\r\n",
        "df_twit['a'] = a\r\n",
        "df = df_twit.drop(['Q','A'], axis = 1)\r\n",
        "df.rename(columns = {\"q\":\"Q\",\"a\": \"A\"}, inplace = True)\r\n",
        "df.to_csv('/content/drive/MyDrive/chatbot/data/twit_data(2).csv')"
      ],
      "execution_count": null,
      "outputs": []
    },
    {
      "cell_type": "markdown",
      "metadata": {
        "id": "uYmmr2ixNvyq"
      },
      "source": [
        "# 4. AI HUB / 대화데이터_오피스(JSON)"
      ]
    },
    {
      "cell_type": "code",
      "metadata": {
        "id": "lT3HbEfZNzL-"
      },
      "source": [
        "#'/content/drive/MyDrive/AI HUB/대화데이터_오피스(JSON)'"
      ],
      "execution_count": null,
      "outputs": []
    },
    {
      "cell_type": "code",
      "metadata": {
        "id": "bXR22fWbjsmH"
      },
      "source": [
        "from google.colab import files\r\n",
        "myfile = files.upload()"
      ],
      "execution_count": null,
      "outputs": []
    },
    {
      "cell_type": "code",
      "metadata": {
        "id": "iYFiKQffj8ie"
      },
      "source": [
        "df1  = pd.read_csv('train (1).csv', encoding = 'cp949')\r\n",
        "df1.tail()"
      ],
      "execution_count": null,
      "outputs": []
    },
    {
      "cell_type": "code",
      "metadata": {
        "id": "BxjchYGgXqVv"
      },
      "source": [
        "df22['label'] = '2'"
      ],
      "execution_count": null,
      "outputs": []
    },
    {
      "cell_type": "code",
      "metadata": {
        "id": "cvgNilp2ZNLx"
      },
      "source": [
        "df22.head()"
      ],
      "execution_count": null,
      "outputs": []
    },
    {
      "cell_type": "code",
      "metadata": {
        "id": "XMKvogYcZPBt"
      },
      "source": [
        "df22['Unnamed: 0'] = 1\r\n",
        "df22.head()"
      ],
      "execution_count": null,
      "outputs": []
    },
    {
      "cell_type": "code",
      "metadata": {
        "id": "0PJgyPexbYv0"
      },
      "source": [
        "df22 = df22[['Unnamed: 0','Q','A','label']]\r\n",
        "df22"
      ],
      "execution_count": null,
      "outputs": []
    },
    {
      "cell_type": "code",
      "metadata": {
        "id": "kdAn1dddaEpH"
      },
      "source": [
        "df1.head(2)"
      ],
      "execution_count": null,
      "outputs": []
    },
    {
      "cell_type": "code",
      "metadata": {
        "id": "g3VZcJivbMof"
      },
      "source": [
        "df22.head(2)"
      ],
      "execution_count": null,
      "outputs": []
    },
    {
      "cell_type": "code",
      "metadata": {
        "id": "rmBW7DDbcuBG"
      },
      "source": [
        "data = pd.concat([df1, df22], axis=0)\r\n",
        "data.head()"
      ],
      "execution_count": null,
      "outputs": []
    },
    {
      "cell_type": "code",
      "metadata": {
        "id": "jFObpNRjdvao"
      },
      "source": [
        "data.tail()"
      ],
      "execution_count": null,
      "outputs": []
    },
    {
      "cell_type": "code",
      "metadata": {
        "id": "oUQ88vjzdxsj"
      },
      "source": [
        "data.to_csv('/content/drive/MyDrive/chatbot/train_0301(1).csv')"
      ],
      "execution_count": null,
      "outputs": []
    },
    {
      "cell_type": "code",
      "metadata": {
        "id": "i5pQVp-1eLMS"
      },
      "source": [
        ""
      ],
      "execution_count": null,
      "outputs": []
    },
    {
      "cell_type": "markdown",
      "metadata": {
        "id": "nDEJVt1dsq0_"
      },
      "source": [
        "# 5. 질문쌍 데이터\r\n",
        "* https://github.com/songys/Question_pair"
      ]
    },
    {
      "cell_type": "code",
      "metadata": {
        "id": "rIoF5NaMqxA4"
      },
      "source": [
        "from google.colab import files\r\n",
        "myfile = files.upload()"
      ],
      "execution_count": null,
      "outputs": []
    },
    {
      "cell_type": "code",
      "metadata": {
        "id": "wSX-lpCksxc8"
      },
      "source": [
        "kor_test = pd.read_csv('kor_Pair_test.csv')\r\n",
        "kor_train = pd.read_csv('kor_pair_train.csv')\r\n",
        "test = pd.read_csv('test.txt',sep='\\t')\r\n",
        "train = pd.read_csv('train.txt',sep='\\t')\r\n",
        "valid = pd.read_csv('validation.txt',sep='\\t')"
      ],
      "execution_count": null,
      "outputs": []
    },
    {
      "cell_type": "code",
      "metadata": {
        "id": "eC34r_OqtAgu"
      },
      "source": [
        "kor_test.head(10)"
      ],
      "execution_count": null,
      "outputs": []
    },
    {
      "cell_type": "code",
      "metadata": {
        "id": "FOYRJId9tCx_"
      },
      "source": [
        "test = pd.read_csv('test.txt', sep='\\t')"
      ],
      "execution_count": null,
      "outputs": []
    },
    {
      "cell_type": "code",
      "metadata": {
        "id": "JsndAg6hu6me"
      },
      "source": [
        "kor_train.head()"
      ],
      "execution_count": null,
      "outputs": []
    },
    {
      "cell_type": "code",
      "metadata": {
        "id": "WxO1OamhtqjT"
      },
      "source": [
        "kor_data = pd.concat([kor_test, kor_train], axis=0)\r\n",
        "kor_data.tail()"
      ],
      "execution_count": null,
      "outputs": []
    },
    {
      "cell_type": "code",
      "metadata": {
        "id": "FIZJu4otvw_0"
      },
      "source": [
        "kor_data = kor_data.iloc[:,:4]\r\n",
        "kor_data"
      ],
      "execution_count": null,
      "outputs": []
    },
    {
      "cell_type": "code",
      "metadata": {
        "id": "Rd9JMuMAtc11"
      },
      "source": [
        "kor_data.columns = ['Unnamed: 0','Q','A','label']\r\n",
        "kor_data.head()"
      ],
      "execution_count": null,
      "outputs": []
    },
    {
      "cell_type": "code",
      "metadata": {
        "id": "ujWvVV9KwsvW"
      },
      "source": [
        "kor_data.to_csv('/content/drive/MyDrive/chatbot/kor_data(1).csv')"
      ],
      "execution_count": null,
      "outputs": []
    },
    {
      "cell_type": "code",
      "metadata": {
        "id": "d4mLYGu2xOup"
      },
      "source": [
        "df_kor = pd.read_csv('/content/drive/MyDrive/chatbot/kor_data(1).csv')\r\n",
        "df_kor.head()"
      ],
      "execution_count": null,
      "outputs": []
    },
    {
      "cell_type": "code",
      "metadata": {
        "id": "RhKQdKcV0ioC"
      },
      "source": [
        "df_kor.shape"
      ],
      "execution_count": null,
      "outputs": []
    },
    {
      "cell_type": "markdown",
      "metadata": {
        "id": "P-9Wb8vO0jPE"
      },
      "source": [
        "# 6. KorNLI"
      ]
    },
    {
      "cell_type": "code",
      "metadata": {
        "id": "vL2mIZFN0pCf"
      },
      "source": [
        "kornli_1 = pd.read_csv('/content/drive/MyDrive/chatbot/KorNLI/multinli.train.ko.tsv', \n",
        "                       sep = '\\t', error_bad_lines=False)\n",
        "kornli_2 = pd.read_csv('/content/drive/MyDrive/chatbot/KorNLI/snli_1.0_train.ko.tsv', \n",
        "                       sep = '\\t', error_bad_lines=False)\n",
        "kornli_3 = pd.read_csv('/content/drive/MyDrive/chatbot/KorNLI/xnli.dev.ko.tsv', \n",
        "                       sep = '\\t', error_bad_lines=False)\n",
        "kornli_4 = pd.read_csv('/content/drive/MyDrive/chatbot/KorNLI/xnli.test.ko.tsv', \n",
        "                       sep = '\\t', error_bad_lines=False)\n",
        "\n",
        "kornli_1 = kornli_1[kornli_1.gold_label == 'entailment']\n",
        "kornli_2 = kornli_2[kornli_2.gold_label == 'entailment']\n",
        "kornli_3 = kornli_3[kornli_3.gold_label == 'entailment']\n",
        "kornli_4 = kornli_4[kornli_4.gold_label == 'entailment']\n",
        "\n",
        "kornli = pd.concat([kornli_1,kornli_2,kornli_3,kornli_4])\n",
        "kornli.columns = ['Q','A','label']\n",
        "kornli.drop(['label'], axis=1, inplace = True)\n",
        "kornli.reset_index(drop = True)\n",
        "\n",
        "kornli.to_csv('/content/drive/MyDrive/chatbot/data/kornli.csv')"
      ],
      "execution_count": null,
      "outputs": []
    },
    {
      "cell_type": "code",
      "metadata": {
        "id": "PaHV255X3vS5"
      },
      "source": [
        ""
      ],
      "execution_count": null,
      "outputs": []
    },
    {
      "cell_type": "code",
      "metadata": {
        "id": "nupxuvYe8ObD"
      },
      "source": [
        "import numpy as np\n",
        "from sklearn.model_selection import train_test_split\n",
        "\n",
        "kornli_train, kornli_test = train_test_split(kornli, test_size=0.2, random_state=12)\n",
        "kornli_train = kornli_train.reset_index(drop=True)\n",
        "kornli_train.head()\n",
        "kornli_train.to_csv('/content/drive/MyDrive/chatbot/kornli_train.csv')\n",
        "kornli_test = kornli_test.reset_index(drop=True)\n",
        "kornli_test.head()\n",
        "kornli_test.to_csv('/content/drive/MyDrive/chatbot/kornli_test.csv')"
      ],
      "execution_count": null,
      "outputs": []
    },
    {
      "cell_type": "code",
      "metadata": {
        "id": "26LlUyIVf-6F"
      },
      "source": [
        ""
      ],
      "execution_count": null,
      "outputs": []
    },
    {
      "cell_type": "markdown",
      "metadata": {
        "id": "xbpoSenOF4ei"
      },
      "source": [
        "# 7. [KorQuAD](https://github.com/korquad/korquad.github.io/tree/master/dataset/KorQuAD_2.1)\r\n"
      ]
    },
    {
      "cell_type": "code",
      "metadata": {
        "id": "S-R8G_jrF-0M"
      },
      "source": [
        "import json # import json module\r\n",
        "\r\n",
        "# with statement\r\n",
        "with open('/content/drive/MyDrive/chatbot/korquad/korquad2.1_train_00.json') as json_file:\r\n",
        "    jdata1 = json.load(json_file)"
      ],
      "execution_count": null,
      "outputs": []
    },
    {
      "cell_type": "code",
      "metadata": {
        "id": "Br9BLTgYF-5E"
      },
      "source": [
        "# 파일이 너무 큼\r\n",
        "print(json.dumps(jdata1[:2], indent = '\\t'))"
      ],
      "execution_count": null,
      "outputs": []
    },
    {
      "cell_type": "code",
      "metadata": {
        "id": "gXHQObcDoJSG"
      },
      "source": [
        "file = '/content/drive/MyDrive/chatbot/korquad/korquad2.1_train_00.json'"
      ],
      "execution_count": null,
      "outputs": []
    },
    {
      "cell_type": "code",
      "metadata": {
        "id": "I6gsnha5oXTG"
      },
      "source": [
        "# 파일 넣어둔 폴더로 이동\r\n",
        "% cd /content/drive/MyDrive/chatbot/korquad/"
      ],
      "execution_count": null,
      "outputs": []
    },
    {
      "cell_type": "code",
      "metadata": {
        "id": "Qym8t6iT45Y9"
      },
      "source": [
        "from glob import glob\r\n",
        "a = []\r\n",
        "for filename in glob('*.json'):\r\n",
        "    a.append(filename)\r\n",
        "    b = sorted(a)"
      ],
      "execution_count": null,
      "outputs": []
    },
    {
      "cell_type": "code",
      "metadata": {
        "id": "6HLFIFmx80BW"
      },
      "source": [
        "def df_maker(file):\r\n",
        "    quad_df = pd.read_json(file)\r\n",
        "    return quad_df"
      ],
      "execution_count": null,
      "outputs": []
    },
    {
      "cell_type": "code",
      "metadata": {
        "id": "TJMsEd7v8rFi"
      },
      "source": [
        "def qna_df_maker(df):\r\n",
        "    for i in range(len(df)):\r\n",
        "        for j in range(len(df.data[i].get('qas'))):\r\n",
        "            Q.append(df.data[i].get('qas')[j].get('question'))    # Question\r\n",
        "            text = re.sub('<.+?>', '', df.data[i].get('qas')[j].get('answer').get('text'), 0, re.I|re.S)\r\n",
        "            nospace = re.sub('&nbsp;| |\\t|\\r|\\n', ' ', text)\r\n",
        "            A.append(nospace)                                     # Answer\r\n",
        "    data = pd.DataFrame({'Q':Q, 'A':A})\r\n",
        "    return data"
      ],
      "execution_count": null,
      "outputs": []
    },
    {
      "cell_type": "code",
      "metadata": {
        "id": "IvtHodfNA1ld"
      },
      "source": [
        "def append_qna_df_maker(path):\r\n",
        "    qna_df_maker(df_maker(path))\r\n",
        "    return data"
      ],
      "execution_count": null,
      "outputs": []
    },
    {
      "cell_type": "code",
      "metadata": {
        "id": "XqawaZXgGQBa"
      },
      "source": [
        "append_qna_df_maker(b[3])"
      ],
      "execution_count": null,
      "outputs": []
    },
    {
      "cell_type": "code",
      "metadata": {
        "id": "OS6fVZT0KqMW"
      },
      "source": [
        "data = pd.DataFrame({'Q':Q, 'A':A})"
      ],
      "execution_count": null,
      "outputs": []
    },
    {
      "cell_type": "code",
      "metadata": {
        "id": "k6ruhr-wGqIc"
      },
      "source": [
        "data"
      ],
      "execution_count": null,
      "outputs": []
    },
    {
      "cell_type": "code",
      "metadata": {
        "id": "pfXkmu51-lcC"
      },
      "source": [
        "qna_df_maker(data)"
      ],
      "execution_count": null,
      "outputs": []
    },
    {
      "cell_type": "code",
      "metadata": {
        "id": "lrxgHyL9nyKn"
      },
      "source": [
        "# 파일 확인하기\r\n",
        "from IPython.display import display\r\n",
        "from glob import glob\r\n",
        "\r\n",
        "def preview():\r\n",
        "  for filename in glob('*.json'):\r\n",
        "    df = pd.read_json(filename)\r\n",
        "    print(filename, df.shape)\r\n",
        "    display(df.head())\r\n",
        "    print('\\n')\r\n",
        "    \r\n",
        "preview()"
      ],
      "execution_count": null,
      "outputs": []
    },
    {
      "cell_type": "code",
      "metadata": {
        "id": "rVVUCc36sIKV"
      },
      "source": [
        "file = '/content/drive/MyDrive/chatbot/korquad/korquad2.1_train_00.json'\n",
        "df = pd.read_json(file)\n",
        "df.head()"
      ],
      "execution_count": null,
      "outputs": []
    },
    {
      "cell_type": "code",
      "metadata": {
        "id": "qQ2_sxxytDs2"
      },
      "source": [
        "df.data[0].keys()"
      ],
      "execution_count": null,
      "outputs": []
    },
    {
      "cell_type": "code",
      "metadata": {
        "id": "l69Dn75axaNw"
      },
      "source": [
        "df.data[1].keys()"
      ],
      "execution_count": null,
      "outputs": []
    },
    {
      "cell_type": "code",
      "metadata": {
        "id": "CPm9iiNkx2d1"
      },
      "source": [
        "df.data[0]"
      ],
      "execution_count": null,
      "outputs": []
    },
    {
      "cell_type": "code",
      "metadata": {
        "id": "R6kEKXPFyCV3"
      },
      "source": [
        "df.data[0].get('qas')"
      ],
      "execution_count": null,
      "outputs": []
    },
    {
      "cell_type": "code",
      "metadata": {
        "id": "OkYBa2XSyhm5"
      },
      "source": [
        "# Question\r\n",
        "df.data[0].get('qas')[0].get('question')"
      ],
      "execution_count": null,
      "outputs": []
    },
    {
      "cell_type": "code",
      "metadata": {
        "id": "jOJ6LwFoyIna"
      },
      "source": [
        "df.data[0].get('qas')[0].get('answer')"
      ],
      "execution_count": null,
      "outputs": []
    },
    {
      "cell_type": "code",
      "metadata": {
        "id": "BTD3nojzyaVS"
      },
      "source": [
        "# Answer\r\n",
        "df.data[0].get('qas')[0].get('answer').get('text')"
      ],
      "execution_count": null,
      "outputs": []
    },
    {
      "cell_type": "code",
      "metadata": {
        "id": "wcjlG9ZAvfNs"
      },
      "source": [
        "df.data[3]"
      ],
      "execution_count": null,
      "outputs": []
    },
    {
      "cell_type": "code",
      "metadata": {
        "id": "p_pqVlM033dT"
      },
      "source": [
        "df.data[3].get('qas')[0].get('answer')"
      ],
      "execution_count": null,
      "outputs": []
    },
    {
      "cell_type": "code",
      "metadata": {
        "id": "XHTaYWOM4jNk"
      },
      "source": [
        "df.data[3].get('qas')[0].get('answer').get('text')"
      ],
      "execution_count": null,
      "outputs": []
    },
    {
      "cell_type": "code",
      "metadata": {
        "id": "_ygB74Dk4Ws0"
      },
      "source": [
        "df.data[3].get('qas')[1].get('answer')"
      ],
      "execution_count": null,
      "outputs": []
    },
    {
      "cell_type": "code",
      "metadata": {
        "id": "lQ1U5iK07Mte"
      },
      "source": [
        "len(df.data[3].get('qas'))"
      ],
      "execution_count": null,
      "outputs": []
    },
    {
      "cell_type": "code",
      "metadata": {
        "id": "fmcvaFt65ySd"
      },
      "source": [
        "df.data[4]"
      ],
      "execution_count": null,
      "outputs": []
    },
    {
      "cell_type": "code",
      "metadata": {
        "id": "89hA8JkP6DTB"
      },
      "source": [
        "len(df)"
      ],
      "execution_count": null,
      "outputs": []
    },
    {
      "cell_type": "code",
      "metadata": {
        "id": "zCkVw8Wl7Vwr"
      },
      "source": [
        "def getquad(df):\r\n",
        "    for i in range(len(df)):\r\n",
        "        for j in range(len(df.data[i].get('qas'))):\r\n",
        "            Q.append(df.data[i].get('qas')[j].get('question'))                # Question\r\n",
        "            A.append(df.data[i].get('qas')[j].get('answer').get('text'))      # Answer"
      ],
      "execution_count": null,
      "outputs": []
    },
    {
      "cell_type": "code",
      "metadata": {
        "id": "VgAfBQk93mn7"
      },
      "source": [
        "Q = []\r\n",
        "A = []\r\n",
        "def qna_df_maker(df):\r\n",
        "    for i in range(len(df)):\r\n",
        "        for j in range(len(df.data[i].get('qas'))):\r\n",
        "            Q.append(df.data[i].get('qas')[j].get('question'))    # Question\r\n",
        "            text = re.sub('<.+?>', '', df.data[i].get('qas')[j].get('answer').get('text'), 0, re.I|re.S)\r\n",
        "            nospace = re.sub('&nbsp;| |\\t|\\r|\\n', ' ', text)\r\n",
        "            A.append(nospace)                                     # Answer\r\n",
        "    data = pd.DataFrame({'Q':Q, 'A':A})"
      ],
      "execution_count": null,
      "outputs": []
    },
    {
      "cell_type": "code",
      "metadata": {
        "id": "lfkHIzYQVSA0"
      },
      "source": [
        "text = re.sub('<.+?>|[.+?]', '', A[3], 0, re.I|re.S)\r\n",
        "nospace = re.sub('&nbsp;| |\\t|\\r|\\n', ' ', text)\r\n",
        "print(nospace)"
      ],
      "execution_count": null,
      "outputs": []
    },
    {
      "cell_type": "code",
      "metadata": {
        "id": "g93wW_qyXyNL"
      },
      "source": [
        "a = []\r\n",
        "for i in range(len(A)):\r\n",
        "    text = re.sub('<.+?>|[.+?]', '', A[i], 0, re.I|re.S)\r\n",
        "    nospace = re.sub('&nbsp;| |\\t|\\r|\\n', ' ', text)\r\n",
        "    a.append(nospace)"
      ],
      "execution_count": null,
      "outputs": []
    },
    {
      "cell_type": "markdown",
      "metadata": {
        "id": "Q-7wbXiWOyuQ"
      },
      "source": [
        "* train data와 합치기"
      ]
    },
    {
      "cell_type": "code",
      "metadata": {
        "id": "g9nKHNa68iW5"
      },
      "source": [
        "quad1 = pd.DataFrame({'Q':Q, 'A':a})\r\n",
        "quad1.head()"
      ],
      "execution_count": null,
      "outputs": []
    },
    {
      "cell_type": "code",
      "metadata": {
        "id": "xkS7KyqiPVyd"
      },
      "source": [
        "train_df = pd.read_csv('/content/drive/MyDrive/chatbot/data/train_raw.csv')\r\n",
        "train_df.head()"
      ],
      "execution_count": null,
      "outputs": []
    },
    {
      "cell_type": "code",
      "metadata": {
        "id": "LKGLFRCjm-aA"
      },
      "source": [
        "len(train_df)"
      ],
      "execution_count": null,
      "outputs": []
    },
    {
      "cell_type": "code",
      "metadata": {
        "id": "gfHsey8cnGeO"
      },
      "source": [
        "len(train)"
      ],
      "execution_count": null,
      "outputs": []
    },
    {
      "cell_type": "code",
      "metadata": {
        "id": "_gbBlPEKmT7T"
      },
      "source": [
        "train = pd.concat([train_df, quad1])"
      ],
      "execution_count": null,
      "outputs": []
    },
    {
      "cell_type": "code",
      "metadata": {
        "id": "VRhaCpKOmeeN"
      },
      "source": [
        "train.reset_index(drop=True, inplace=True)\r\n",
        "train.tail()"
      ],
      "execution_count": null,
      "outputs": []
    },
    {
      "cell_type": "code",
      "metadata": {
        "id": "ynK5aQWan0AV"
      },
      "source": [
        "train.to_csv('/content/drive/MyDrive/chatbot/data/train_quad1.csv')"
      ],
      "execution_count": null,
      "outputs": []
    },
    {
      "cell_type": "code",
      "metadata": {
        "id": "lL_ByQ0SDshg"
      },
      "source": [
        "test8 = quad1.A[8]\r\n",
        "import re\r\n",
        "text = re.sub('<.+?>', '', test8, 0, re.I|re.S)\r\n",
        "nospace = re.sub('&nbsp;| |\\t|\\r', ' ', text)\r\n",
        "print (nospace)"
      ],
      "execution_count": null,
      "outputs": []
    },
    {
      "cell_type": "code",
      "metadata": {
        "id": "IZizzV7u9SBe"
      },
      "source": [
        "test7 = quad1.A[7]"
      ],
      "execution_count": null,
      "outputs": []
    },
    {
      "cell_type": "code",
      "metadata": {
        "id": "LBWlIPSzCJN6"
      },
      "source": [
        "import re\r\n",
        "text = re.sub('<.+?>', '', test, 0, re.I|re.S)\r\n",
        "nospace = re.sub('&nbsp;| |\\t|\\r', ' ', text)\r\n",
        "print (nospace)"
      ],
      "execution_count": null,
      "outputs": []
    },
    {
      "cell_type": "markdown",
      "metadata": {
        "id": "wbpWD7paVqS0"
      },
      "source": [
        "# 8. 영어 선생님 퀴즈 : 초등 영단어 800"
      ]
    },
    {
      "cell_type": "markdown",
      "metadata": {
        "id": "ERCH3o5yNENj"
      },
      "source": [
        "### 데이터 정제 1"
      ]
    },
    {
      "cell_type": "code",
      "metadata": {
        "id": "7DTQVBY2VvdU"
      },
      "source": [
        "import pandas as pd\r\n",
        "df2 = pd.read_excel('[영공카페]+초등800단어+예문포함.xls')\r\n",
        "df2.columns = ['word','eng','kor']\r\n",
        "\r\n",
        "## str.split 사용해서 데이터 정제\r\n",
        "\r\n",
        "raw_str = df2.eng[5]\r\n",
        "idx = raw_str.find(')') \r\n",
        "name = raw_str[1:idx] \r\n",
        "context = raw_str[idx+1:]\r\n",
        "context.strip()\r\n",
        "answer = []\r\n",
        "eng2 = []\r\n",
        "\r\n",
        "for i in range(len(df2)):\r\n",
        "    raw_str = df2.eng[i]\r\n",
        "    idx = raw_str.find(')') \r\n",
        "    answer.append(raw_str[1:idx])\r\n",
        "    eng2.append(raw_str[idx+1:].lstrip(')').strip('.'))\r\n",
        "df2['answer'] = answer\r\n",
        "df2['eng2'] = eng2\r\n",
        "df2.head()"
      ],
      "execution_count": null,
      "outputs": []
    },
    {
      "cell_type": "code",
      "metadata": {
        "id": "Q2-a5VxJOodE"
      },
      "source": [
        "# df3[0] 정제1\n",
        "df2.kor[0] = df2.kor[0].split('.')[0].strip()\n",
        "df2.eng2[0] = df2.eng2[0].split('.')[0].strip()\n",
        "df2.eng2[0] = df2.eng2[0].split('.')[0].strip()\n",
        "df2.word[0] = df2.word[0].split(',')[0].strip()"
      ],
      "execution_count": null,
      "outputs": []
    },
    {
      "cell_type": "code",
      "metadata": {
        "id": "rTNOkgh77xyv"
      },
      "source": [
        "df3 = df2\r\n",
        "df3.head()"
      ],
      "execution_count": null,
      "outputs": []
    },
    {
      "cell_type": "code",
      "metadata": {
        "id": "0x-nH6Wd71Lc"
      },
      "source": [
        "del(df3['eng'])\r\n",
        "df3.head()"
      ],
      "execution_count": null,
      "outputs": []
    },
    {
      "cell_type": "code",
      "metadata": {
        "id": "OjicZBtyjQw6"
      },
      "source": [
        "s = df3.eng2[4]\r\n",
        "w = df3.word[4]\r\n",
        "s = s.replace(w, '_______').strip()\r\n",
        "s"
      ],
      "execution_count": null,
      "outputs": []
    },
    {
      "cell_type": "code",
      "metadata": {
        "id": "q9b3oM3hj6xk"
      },
      "source": [
        "eng3 = []\r\n",
        "\r\n",
        "for i in range(len(df3)):\r\n",
        "    s = df3.eng2[i].rstrip('.')\r\n",
        "    w = df3.word[i]\r\n",
        "    eng3.append(s.replace(w, '_______').lstrip(')').strip()) "
      ],
      "execution_count": null,
      "outputs": []
    },
    {
      "cell_type": "code",
      "metadata": {
        "id": "nKSt5iqKiVk8"
      },
      "source": [
        "df3['eng3'] = eng3\r\n",
        "df3.head()"
      ],
      "execution_count": null,
      "outputs": []
    },
    {
      "cell_type": "code",
      "metadata": {
        "id": "rHjWVSMbGR_N"
      },
      "source": [
        "df3.to_csv('eng_quiz_data.csv', index=False)"
      ],
      "execution_count": null,
      "outputs": []
    },
    {
      "cell_type": "code",
      "metadata": {
        "id": "O1V3ok71gYUw"
      },
      "source": [
        "df3 = pd.read_csv('eng_quiz_data.csv')"
      ],
      "execution_count": null,
      "outputs": []
    },
    {
      "cell_type": "code",
      "metadata": {
        "id": "xA6mtApGIpew"
      },
      "source": [
        "# word 중에서 3개를 랜덤으로 추출 + 정답 word와 합쳐서 순서 섞기\r\n",
        "import random\r\n",
        "word_list = df3.word.tolist()\r\n",
        "\r\n",
        "def quiz(word):\r\n",
        "    a = [word]\r\n",
        "    b = random.sample(word_list, k=3)\r\n",
        "    c = a+b\r\n",
        "    random.shuffle(c)\r\n",
        "    \", \".join(c)\r\n",
        "    return (c)"
      ],
      "execution_count": null,
      "outputs": []
    },
    {
      "cell_type": "code",
      "metadata": {
        "id": "oyWoeQlIRy1f"
      },
      "source": [
        "choice = []\r\n",
        "\r\n",
        "for i in range(len(df3)):\r\n",
        "    choice.append(quiz(df3.word[i]))\r\n",
        "    if len(set(quiz(df3.word[i]))) != 4:\r\n",
        "        print(df3.word[i])\r\n",
        "    \r\n",
        "'''\r\n",
        "    if len(set(quiz(df3.word[i]))) == 4:\r\n",
        "        choice.append(quiz(df3.word[i]))\r\n",
        "    else:  \r\n",
        "        print(quiz(df3.word[i]))\r\n",
        "        choice.append(quiz(df3.word[i]))\r\n",
        "'''"
      ],
      "execution_count": null,
      "outputs": []
    },
    {
      "cell_type": "code",
      "metadata": {
        "id": "fcNO0titSRHr"
      },
      "source": [
        "df3['choice'] = choice\r\n",
        "df3.head(2)"
      ],
      "execution_count": null,
      "outputs": []
    },
    {
      "cell_type": "code",
      "metadata": {
        "id": "HsughdhvjO8x"
      },
      "source": [
        "# 중복 데이터 확인 및 정제\r\n",
        "for i in range(len(df3)):\r\n",
        "    a = df3.choice[i]\r\n",
        "    if len(set(a)) != 4:\r\n",
        "        print(a)\r\n",
        "        print(i)"
      ],
      "execution_count": null,
      "outputs": []
    },
    {
      "cell_type": "code",
      "metadata": {
        "id": "w7-0xBeRmNYi"
      },
      "source": [
        "random.sample(word_list, k=3)"
      ],
      "execution_count": null,
      "outputs": []
    },
    {
      "cell_type": "code",
      "metadata": {
        "id": "CefEj63Bjnn8"
      },
      "source": [
        "# 중복 데이터 수정\r\n",
        "print(df3.choice[177])\r\n",
        "print(df3.choice[225])\r\n",
        "print(df3.choice[346])"
      ],
      "execution_count": null,
      "outputs": []
    },
    {
      "cell_type": "code",
      "metadata": {
        "id": "qLSeHxOLoO14"
      },
      "source": [
        "df3.choice[177] = ['film', 'dirty', 'cat', 'soccer']\r\n",
        "df3.choice[225] = ['fat', 'story', 'pine', 'light']\r\n",
        "df3.choice[346] = ['just', 'train', 'luck', 'nurse']"
      ],
      "execution_count": null,
      "outputs": []
    },
    {
      "cell_type": "code",
      "metadata": {
        "id": "d59-qJwVkoO-"
      },
      "source": [
        "# 중복 데이터 확인\r\n",
        "for i in range(len(df3)):\r\n",
        "    a = df3.choice[i]\r\n",
        "    if len(set(a)) != 4:\r\n",
        "        print(a)\r\n",
        "        print(i)"
      ],
      "execution_count": null,
      "outputs": []
    },
    {
      "cell_type": "code",
      "metadata": {
        "id": "4e68-7EjoBsx"
      },
      "source": [
        "# 리스트 형태를 원소배열로\r\n",
        "\r\n",
        "df3['choice2'] = 'a'\r\n",
        "\r\n",
        "for i in range(len(df3)):\r\n",
        "    df3['choice2'][i] = \", \".join(df3['choice'][i])\r\n"
      ],
      "execution_count": null,
      "outputs": []
    },
    {
      "cell_type": "code",
      "metadata": {
        "id": "nPAOMzOpZpot"
      },
      "source": [
        "del(df3['choice'])"
      ],
      "execution_count": null,
      "outputs": []
    },
    {
      "cell_type": "code",
      "metadata": {
        "id": "3B6Jx0hx9aex"
      },
      "source": [
        "# 대문자로 시작하는 퀴즈정답 변환\r\n",
        "\r\n",
        "for i in range(len(df3)):\r\n",
        "    s = df3.eng2[i].split()\r\n",
        "    w = df3.word[i].capitalize()\r\n",
        "    if s[0] == w:\r\n",
        "        df3.eng3[i] = df3.eng3[i].replace(w, '_______').strip()"
      ],
      "execution_count": null,
      "outputs": []
    },
    {
      "cell_type": "code",
      "metadata": {
        "id": "J35WzdrfG4Dm"
      },
      "source": [
        "df3.head(10)"
      ],
      "execution_count": null,
      "outputs": []
    },
    {
      "cell_type": "code",
      "metadata": {
        "id": "sW4kLOHhVLeG"
      },
      "source": [
        "df3.columns = ['A','kor','answer','eng1','eng2','choice']\r\n",
        "df3.head(2)"
      ],
      "execution_count": null,
      "outputs": []
    },
    {
      "cell_type": "code",
      "metadata": {
        "id": "H4wjObI_VlsD"
      },
      "source": [
        "df3.to_csv('eng_quiz_data_v2.1.csv', index = False)"
      ],
      "execution_count": null,
      "outputs": []
    },
    {
      "cell_type": "code",
      "metadata": {
        "id": "z02co7T2lT-7"
      },
      "source": [
        "df4 = pd.read_csv('eng_quiz_data_v2.1.csv')"
      ],
      "execution_count": null,
      "outputs": []
    },
    {
      "cell_type": "code",
      "metadata": {
        "id": "rEterRxVlbTd"
      },
      "source": [
        "for i in range(len(df4)):\r\n",
        "    a = df4.eng2[0].split()[-1]\r\n",
        "    if a == 1:\r\n",
        "        print(i)\r\n",
        "        print(a)\r\n",
        "#df4.eng2[0].split()[-1]"
      ],
      "execution_count": null,
      "outputs": []
    },
    {
      "cell_type": "code",
      "metadata": {
        "id": "FfIjHUsNmH2a"
      },
      "source": [
        "a = []\r\n",
        "for i in range(len(df4)):\r\n",
        "    a.append(df4.eng2[i][-1])\r\n",
        "\r\n",
        "#df4.eng2[0][-1]"
      ],
      "execution_count": null,
      "outputs": []
    },
    {
      "cell_type": "code",
      "metadata": {
        "id": "ekO7rfcgmf1M"
      },
      "source": [
        "set(a)"
      ],
      "execution_count": null,
      "outputs": []
    },
    {
      "cell_type": "code",
      "metadata": {
        "id": "9c1inr0XnKMf"
      },
      "source": [
        "import re\r\n",
        "b = []\r\n",
        "for i in range(len(df4)):\r\n",
        "    if b\r\n",
        "    b.append(df4.eng2[i][-1])"
      ],
      "execution_count": null,
      "outputs": []
    },
    {
      "cell_type": "code",
      "metadata": {
        "id": "AJYQd098WKvb"
      },
      "source": [
        "# Question 만들기 연습\r\n",
        "q = (\"빈칸의 단어를 맞춰보세요~!\\n\\n\" +\r\n",
        "      df3.kor[1] + \"\\n\" +\r\n",
        "      df3.eng3[1] + \"\\n\\n\" + \r\n",
        "      df3.choice2[1])\r\n",
        "\r\n",
        "print(q)"
      ],
      "execution_count": null,
      "outputs": []
    },
    {
      "cell_type": "code",
      "metadata": {
        "id": "9yIfGibQWK65"
      },
      "source": [
        "df3['Q'] = 'a'"
      ],
      "execution_count": null,
      "outputs": []
    },
    {
      "cell_type": "code",
      "metadata": {
        "id": "2P5rLwFNb87_"
      },
      "source": [
        "Q = []\r\n",
        "\r\n",
        "for i in range(len(df3)):\r\n",
        "    Q.append(df3.kor[i] + \"\\n\" +\r\n",
        "             df3.eng2[i] + \"\\n\\n\" + \r\n",
        "             df3.choice[i])"
      ],
      "execution_count": null,
      "outputs": []
    },
    {
      "cell_type": "code",
      "metadata": {
        "id": "lAtOAlPDWg66"
      },
      "source": [
        "df3['Q'] = Q\r\n",
        "df3.head()"
      ],
      "execution_count": null,
      "outputs": []
    },
    {
      "cell_type": "code",
      "metadata": {
        "id": "dnuwuWryXYwQ"
      },
      "source": [
        "# 문장 중에서 '_______' 없는 리스트 찾기\r\n",
        "\r\n",
        "error = []\r\n",
        "for i in range(len(df3)):\r\n",
        "    s = df3.eng2[i]\r\n",
        "    t = s.find('_______')\r\n",
        "    if t == -1:\r\n",
        "        error.append(i)"
      ],
      "execution_count": null,
      "outputs": []
    },
    {
      "cell_type": "code",
      "metadata": {
        "id": "waeabGD1YzIH"
      },
      "source": [
        "for i in error:\r\n",
        "    print(df3[i:i+1])"
      ],
      "execution_count": null,
      "outputs": []
    },
    {
      "cell_type": "code",
      "metadata": {
        "id": "okbEP4wHQYQx"
      },
      "source": [
        "df4 = df3[['Q','A']]\r\n",
        "df4.head()"
      ],
      "execution_count": null,
      "outputs": []
    },
    {
      "cell_type": "code",
      "metadata": {
        "id": "n_p1QRtDQqe0"
      },
      "source": [
        "df4.to_csv('eng_quiz_data_v2.2.csv', index=False)"
      ],
      "execution_count": null,
      "outputs": []
    },
    {
      "cell_type": "markdown",
      "metadata": {
        "id": "dgRWN8HqNJx8"
      },
      "source": [
        "### 데이터 정제 2"
      ]
    },
    {
      "cell_type": "code",
      "metadata": {
        "id": "adjustable-identifier"
      },
      "source": [
        "quiz = pd.read_csv('Chatbot_data/eng_quiz_data_v2.0.csv')\n",
        "\n",
        "a = []\n",
        "for i in quiz['A']:\n",
        "    a.append(len(i.split(',')))\n",
        "a = pd.DataFrame(a)\n",
        "quiz = quiz.drop(0).reset_index(drop = True)\n",
        "\n",
        "# 문장에서 '_______' 없는 것은 삭제\n",
        "for i in range(len(quiz['Q'])):\n",
        "    if len(quiz['Q'][i].split('_______')) < 2:\n",
        "        print(quiz['Q'][i])\n",
        "        quiz.drop(i, inplace = True)\n",
        "\n",
        "quiz.reset_index(inplace = True)\n",
        "# 검증\n",
        "for i in range(len(quiz['Q'])):\n",
        "    if len(quiz['Q'][i].split('_______')) < 2:\n",
        "        print(quiz['Q'][i])\n",
        "quiz.drop('index', axis=1,inplace = True)\n",
        "quiz.to_csv('Chatbot_data/quizfinal.csv')"
      ],
      "execution_count": null,
      "outputs": []
    },
    {
      "cell_type": "markdown",
      "metadata": {
        "id": "5gizbMVvgAvW"
      },
      "source": [
        "# 데이터 합치기"
      ]
    },
    {
      "cell_type": "code",
      "metadata": {
        "id": "FUh_VNW4gDZz"
      },
      "source": [
        "def merge_data(data1, data2):\r\n",
        "    new_df = df.concat([data1, data2], axis=0)\r\n",
        "    print(new_df.head())"
      ],
      "execution_count": null,
      "outputs": []
    },
    {
      "cell_type": "code",
      "metadata": {
        "id": "DaevwhO6gnLD"
      },
      "source": [
        "data1 = pd.read_csv('/content/drive/MyDrive/chatbot/train_KETI_대화데이터_일상_오피스.csv')\r\n",
        "data2 = pd.read_csv('/content/drive/MyDrive/chatbot/data/kornli.csv')\r\n",
        "data3 = pd.read_csv('/content/drive/MyDrive/chatbot/data/twit_data(2).csv')"
      ],
      "execution_count": null,
      "outputs": []
    },
    {
      "cell_type": "code",
      "metadata": {
        "id": "r_adwp9Hm0YQ"
      },
      "source": [
        "print(data1.shape, data2.shape, data3.shape)"
      ],
      "execution_count": null,
      "outputs": []
    },
    {
      "cell_type": "code",
      "metadata": {
        "id": "ixK1WiUgmFDv"
      },
      "source": [
        "df_new = pd.concat([data1, data2, data3])\r\n",
        "df_new.head()"
      ],
      "execution_count": null,
      "outputs": []
    },
    {
      "cell_type": "code",
      "metadata": {
        "id": "muMab00fnsDV"
      },
      "source": [
        "df_new.shape"
      ],
      "execution_count": null,
      "outputs": []
    },
    {
      "cell_type": "code",
      "metadata": {
        "id": "XO9sz-xxoHss"
      },
      "source": [
        "for i in range(len(df_new)):\r\n",
        "    if df_new['A'][i] == '아무거나 막.':\r\n",
        "        print(df_new['A'][i])\r\n"
      ],
      "execution_count": null,
      "outputs": []
    },
    {
      "cell_type": "code",
      "metadata": {
        "id": "KEUhMIyNmV-v"
      },
      "source": [
        "df_new1 = df_new.reset_index()\r\n",
        "df_new.tail()"
      ],
      "execution_count": null,
      "outputs": []
    },
    {
      "cell_type": "code",
      "metadata": {
        "id": "dOzK7qN5muty"
      },
      "source": [
        "df_new.to_csv('total_data.csv', index=False)"
      ],
      "execution_count": null,
      "outputs": []
    }
  ]
}