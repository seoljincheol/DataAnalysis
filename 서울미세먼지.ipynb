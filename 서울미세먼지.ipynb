{
 "cells": [
  {
   "cell_type": "code",
   "execution_count": 16,
   "metadata": {},
   "outputs": [],
   "source": [
    "import pandas as pd\n",
    "import seaborn as sns\n",
    "import numpy as np\n",
    "import glob\n",
    "import matplotlib.pyplot as plt\n",
    "%matplotlib inline"
   ]
  },
  {
   "cell_type": "code",
   "execution_count": 2,
   "metadata": {},
   "outputs": [],
   "source": [
    "from matplotlib import font_manager, rc\n",
    "plt.rcParams['axes.unicode_minus'] = False\n",
    "f_path = \"C:/Windows/Fonts/malgun.ttf\"\n",
    "font_name = font_manager.FontProperties(fname=f_path).get_name()\n",
    "rc('font', family=font_name)"
   ]
  },
  {
   "cell_type": "code",
   "execution_count": 49,
   "metadata": {},
   "outputs": [],
   "source": [
    "dust_raw_data = glob.glob(\"C:/Users/aaaaa/Downloads/data/dust/*.csv\")\n",
    "\n",
    "dust_temp = []\n",
    "\n",
    "for i in dust_raw_data: \n",
    "    df = pd.read_csv(i, encoding = \"cp949\")\n",
    "    df.rename(columns = {\"...1\" : \"gu\"}, inplace = True)\n",
    "    df.drop(\"Unnamed: 0\", axis = 1, inplace = True)\n",
    "    df.fillna(method = 'bfill', inplace = True)\n",
    "    dust_temp.append(df)"
   ]
  },
  {
   "cell_type": "code",
   "execution_count": 50,
   "metadata": {},
   "outputs": [
    {
     "name": "stdout",
     "output_type": "stream",
     "text": [
      "12\n"
     ]
    }
   ],
   "source": [
    "print(len(dust_temp))"
   ]
  },
  {
   "cell_type": "code",
   "execution_count": 51,
   "metadata": {},
   "outputs": [
    {
     "name": "stdout",
     "output_type": "stream",
     "text": [
      "<class 'list'>\n"
     ]
    }
   ],
   "source": [
    "print(type(dust_temp))"
   ]
  },
  {
   "cell_type": "code",
   "execution_count": 53,
   "metadata": {},
   "outputs": [],
   "source": [
    "dust_month = pd.concat(dust_temp, ignore_index = True)"
   ]
  },
  {
   "cell_type": "code",
   "execution_count": 54,
   "metadata": {},
   "outputs": [
    {
     "name": "stdout",
     "output_type": "stream",
     "text": [
      "<class 'pandas.core.frame.DataFrame'>\n"
     ]
    }
   ],
   "source": [
    "print(type(dust_month))"
   ]
  },
  {
   "cell_type": "code",
   "execution_count": 45,
   "metadata": {
    "collapsed": true
   },
   "outputs": [
    {
     "name": "stdout",
     "output_type": "stream",
     "text": [
      "<class 'pandas.core.frame.DataFrame'>\n",
      "RangeIndex: 312 entries, 0 to 311\n",
      "Data columns (total 32 columns):\n",
      " #   Column  Non-Null Count  Dtype  \n",
      "---  ------  --------------  -----  \n",
      " 0   gu      312 non-null    object \n",
      " 1   X1      312 non-null    float64\n",
      " 2   X2      312 non-null    float64\n",
      " 3   X3      312 non-null    float64\n",
      " 4   X4      312 non-null    float64\n",
      " 5   X5      312 non-null    float64\n",
      " 6   X6      312 non-null    float64\n",
      " 7   X7      312 non-null    float64\n",
      " 8   X8      312 non-null    float64\n",
      " 9   X9      312 non-null    float64\n",
      " 10  X10     312 non-null    float64\n",
      " 11  X11     312 non-null    float64\n",
      " 12  X12     312 non-null    float64\n",
      " 13  X13     312 non-null    float64\n",
      " 14  X14     312 non-null    int64  \n",
      " 15  X15     312 non-null    float64\n",
      " 16  X16     312 non-null    int64  \n",
      " 17  X17     312 non-null    int64  \n",
      " 18  X18     312 non-null    float64\n",
      " 19  X19     312 non-null    int64  \n",
      " 20  X20     312 non-null    float64\n",
      " 21  X21     312 non-null    float64\n",
      " 22  X22     312 non-null    float64\n",
      " 23  X23     312 non-null    float64\n",
      " 24  X24     312 non-null    float64\n",
      " 25  X25     312 non-null    float64\n",
      " 26  X26     312 non-null    float64\n",
      " 27  X27     312 non-null    float64\n",
      " 28  X28     312 non-null    float64\n",
      " 29  X29     286 non-null    float64\n",
      " 30  X30     286 non-null    float64\n",
      " 31  X31     182 non-null    float64\n",
      "dtypes: float64(27), int64(4), object(1)\n",
      "memory usage: 78.1+ KB\n"
     ]
    }
   ],
   "source": [
    "dust_month.info()"
   ]
  },
  {
   "cell_type": "code",
   "execution_count": 46,
   "metadata": {},
   "outputs": [
    {
     "data": {
      "text/html": [
       "<div>\n",
       "<style scoped>\n",
       "    .dataframe tbody tr th:only-of-type {\n",
       "        vertical-align: middle;\n",
       "    }\n",
       "\n",
       "    .dataframe tbody tr th {\n",
       "        vertical-align: top;\n",
       "    }\n",
       "\n",
       "    .dataframe thead th {\n",
       "        text-align: right;\n",
       "    }\n",
       "</style>\n",
       "<table border=\"1\" class=\"dataframe\">\n",
       "  <thead>\n",
       "    <tr style=\"text-align: right;\">\n",
       "      <th></th>\n",
       "      <th>gu</th>\n",
       "      <th>X1</th>\n",
       "      <th>X2</th>\n",
       "      <th>X3</th>\n",
       "      <th>X4</th>\n",
       "      <th>X5</th>\n",
       "      <th>X6</th>\n",
       "      <th>X7</th>\n",
       "      <th>X8</th>\n",
       "      <th>X9</th>\n",
       "      <th>...</th>\n",
       "      <th>X22</th>\n",
       "      <th>X23</th>\n",
       "      <th>X24</th>\n",
       "      <th>X25</th>\n",
       "      <th>X26</th>\n",
       "      <th>X27</th>\n",
       "      <th>X28</th>\n",
       "      <th>X29</th>\n",
       "      <th>X30</th>\n",
       "      <th>X31</th>\n",
       "    </tr>\n",
       "  </thead>\n",
       "  <tbody>\n",
       "    <tr>\n",
       "      <th>307</th>\n",
       "      <td>관악구</td>\n",
       "      <td>2.0</td>\n",
       "      <td>2.0</td>\n",
       "      <td>1.0</td>\n",
       "      <td>2.0</td>\n",
       "      <td>2.0</td>\n",
       "      <td>2.0</td>\n",
       "      <td>2.0</td>\n",
       "      <td>2.0</td>\n",
       "      <td>2.0</td>\n",
       "      <td>...</td>\n",
       "      <td>2.0</td>\n",
       "      <td>2.0</td>\n",
       "      <td>2.0</td>\n",
       "      <td>2.0</td>\n",
       "      <td>2.0</td>\n",
       "      <td>1.0</td>\n",
       "      <td>1.0</td>\n",
       "      <td>2.0</td>\n",
       "      <td>2.0</td>\n",
       "      <td>NaN</td>\n",
       "    </tr>\n",
       "    <tr>\n",
       "      <th>308</th>\n",
       "      <td>서초구</td>\n",
       "      <td>2.0</td>\n",
       "      <td>2.0</td>\n",
       "      <td>1.0</td>\n",
       "      <td>2.0</td>\n",
       "      <td>2.0</td>\n",
       "      <td>2.0</td>\n",
       "      <td>2.0</td>\n",
       "      <td>2.0</td>\n",
       "      <td>2.0</td>\n",
       "      <td>...</td>\n",
       "      <td>2.0</td>\n",
       "      <td>2.0</td>\n",
       "      <td>2.0</td>\n",
       "      <td>2.0</td>\n",
       "      <td>2.0</td>\n",
       "      <td>1.0</td>\n",
       "      <td>1.0</td>\n",
       "      <td>2.0</td>\n",
       "      <td>2.0</td>\n",
       "      <td>NaN</td>\n",
       "    </tr>\n",
       "    <tr>\n",
       "      <th>309</th>\n",
       "      <td>강남구</td>\n",
       "      <td>2.0</td>\n",
       "      <td>2.0</td>\n",
       "      <td>1.0</td>\n",
       "      <td>2.0</td>\n",
       "      <td>2.0</td>\n",
       "      <td>2.0</td>\n",
       "      <td>2.0</td>\n",
       "      <td>1.0</td>\n",
       "      <td>2.0</td>\n",
       "      <td>...</td>\n",
       "      <td>2.0</td>\n",
       "      <td>1.0</td>\n",
       "      <td>2.0</td>\n",
       "      <td>2.0</td>\n",
       "      <td>2.0</td>\n",
       "      <td>1.0</td>\n",
       "      <td>1.0</td>\n",
       "      <td>1.0</td>\n",
       "      <td>2.0</td>\n",
       "      <td>NaN</td>\n",
       "    </tr>\n",
       "    <tr>\n",
       "      <th>310</th>\n",
       "      <td>송파구</td>\n",
       "      <td>2.0</td>\n",
       "      <td>2.0</td>\n",
       "      <td>2.0</td>\n",
       "      <td>2.0</td>\n",
       "      <td>2.0</td>\n",
       "      <td>2.0</td>\n",
       "      <td>2.0</td>\n",
       "      <td>2.0</td>\n",
       "      <td>2.0</td>\n",
       "      <td>...</td>\n",
       "      <td>2.0</td>\n",
       "      <td>2.0</td>\n",
       "      <td>2.0</td>\n",
       "      <td>2.0</td>\n",
       "      <td>2.0</td>\n",
       "      <td>1.0</td>\n",
       "      <td>1.0</td>\n",
       "      <td>2.0</td>\n",
       "      <td>2.0</td>\n",
       "      <td>NaN</td>\n",
       "    </tr>\n",
       "    <tr>\n",
       "      <th>311</th>\n",
       "      <td>강동구</td>\n",
       "      <td>2.0</td>\n",
       "      <td>2.0</td>\n",
       "      <td>1.0</td>\n",
       "      <td>2.0</td>\n",
       "      <td>2.0</td>\n",
       "      <td>2.0</td>\n",
       "      <td>2.0</td>\n",
       "      <td>2.0</td>\n",
       "      <td>2.0</td>\n",
       "      <td>...</td>\n",
       "      <td>2.0</td>\n",
       "      <td>2.0</td>\n",
       "      <td>2.0</td>\n",
       "      <td>2.0</td>\n",
       "      <td>2.0</td>\n",
       "      <td>1.0</td>\n",
       "      <td>1.0</td>\n",
       "      <td>2.0</td>\n",
       "      <td>2.0</td>\n",
       "      <td>NaN</td>\n",
       "    </tr>\n",
       "  </tbody>\n",
       "</table>\n",
       "<p>5 rows × 32 columns</p>\n",
       "</div>"
      ],
      "text/plain": [
       "      gu   X1   X2   X3   X4   X5   X6   X7   X8   X9  ...  X22  X23  X24  \\\n",
       "307  관악구  2.0  2.0  1.0  2.0  2.0  2.0  2.0  2.0  2.0  ...  2.0  2.0  2.0   \n",
       "308  서초구  2.0  2.0  1.0  2.0  2.0  2.0  2.0  2.0  2.0  ...  2.0  2.0  2.0   \n",
       "309  강남구  2.0  2.0  1.0  2.0  2.0  2.0  2.0  1.0  2.0  ...  2.0  1.0  2.0   \n",
       "310  송파구  2.0  2.0  2.0  2.0  2.0  2.0  2.0  2.0  2.0  ...  2.0  2.0  2.0   \n",
       "311  강동구  2.0  2.0  1.0  2.0  2.0  2.0  2.0  2.0  2.0  ...  2.0  2.0  2.0   \n",
       "\n",
       "     X25  X26  X27  X28  X29  X30  X31  \n",
       "307  2.0  2.0  1.0  1.0  2.0  2.0  NaN  \n",
       "308  2.0  2.0  1.0  1.0  2.0  2.0  NaN  \n",
       "309  2.0  2.0  1.0  1.0  1.0  2.0  NaN  \n",
       "310  2.0  2.0  1.0  1.0  2.0  2.0  NaN  \n",
       "311  2.0  2.0  1.0  1.0  2.0  2.0  NaN  \n",
       "\n",
       "[5 rows x 32 columns]"
      ]
     },
     "execution_count": 46,
     "metadata": {},
     "output_type": "execute_result"
    }
   ],
   "source": [
    "dust_month.tail()"
   ]
  },
  {
   "cell_type": "code",
   "execution_count": 47,
   "metadata": {
    "collapsed": true
   },
   "outputs": [
    {
     "data": {
      "text/plain": [
       "gu       0\n",
       "X1       0\n",
       "X2       0\n",
       "X3       0\n",
       "X4       0\n",
       "X5       0\n",
       "X6       0\n",
       "X7       0\n",
       "X8       0\n",
       "X9       0\n",
       "X10      0\n",
       "X11      0\n",
       "X12      0\n",
       "X13      0\n",
       "X14      0\n",
       "X15      0\n",
       "X16      0\n",
       "X17      0\n",
       "X18      0\n",
       "X19      0\n",
       "X20      0\n",
       "X21      0\n",
       "X22      0\n",
       "X23      0\n",
       "X24      0\n",
       "X25      0\n",
       "X26      0\n",
       "X27      0\n",
       "X28      0\n",
       "X29     26\n",
       "X30     26\n",
       "X31    130\n",
       "dtype: int64"
      ]
     },
     "execution_count": 47,
     "metadata": {},
     "output_type": "execute_result"
    }
   ],
   "source": [
    "dust_month.isnull().sum()"
   ]
  },
  {
   "cell_type": "code",
   "execution_count": null,
   "metadata": {},
   "outputs": [],
   "source": [
    "dust_month.fillna(self, value=None, method=None, axis=1, inplace=True)"
   ]
  },
  {
   "cell_type": "code",
   "execution_count": 55,
   "metadata": {},
   "outputs": [],
   "source": [
    "dm = pd.melt(dust_month, id_vars = 'gu', var_name = 'day', value_name='ppm')"
   ]
  },
  {
   "cell_type": "code",
   "execution_count": 57,
   "metadata": {},
   "outputs": [
    {
     "data": {
      "text/plain": [
       "[Text(0, 0, '서울시 평균'),\n",
       " Text(0, 0, '종로구'),\n",
       " Text(0, 0, '중구'),\n",
       " Text(0, 0, '용산구'),\n",
       " Text(0, 0, '성동구'),\n",
       " Text(0, 0, '광진구'),\n",
       " Text(0, 0, '동대문구'),\n",
       " Text(0, 0, '중랑구'),\n",
       " Text(0, 0, '성북구'),\n",
       " Text(0, 0, '강북구'),\n",
       " Text(0, 0, '도봉구'),\n",
       " Text(0, 0, '노원구'),\n",
       " Text(0, 0, '은평구'),\n",
       " Text(0, 0, '서대문구'),\n",
       " Text(0, 0, '마포구'),\n",
       " Text(0, 0, '양천구'),\n",
       " Text(0, 0, '강서구'),\n",
       " Text(0, 0, '구로구'),\n",
       " Text(0, 0, '금천구'),\n",
       " Text(0, 0, '영등포구'),\n",
       " Text(0, 0, '동작구'),\n",
       " Text(0, 0, '관악구'),\n",
       " Text(0, 0, '서초구'),\n",
       " Text(0, 0, '강남구'),\n",
       " Text(0, 0, '송파구'),\n",
       " Text(0, 0, '강동구')]"
      ]
     },
     "execution_count": 57,
     "metadata": {},
     "output_type": "execute_result"
    },
    {
     "data": {
      "image/png": "[encoded data removed]",
      "text/plain": [
       "<Figure size 1080x720 with 1 Axes>"
      ]
     },
     "metadata": {
      "needs_background": "light"
     },
     "output_type": "display_data"
    }
   ],
   "source": [
    "#tempdf\n",
    "\n",
    "ax = plt.subplots(figsize = (15, 10))\n",
    "ax = sns.countplot(x = 'gu',hue='ppm', data = dm)\n",
    "ax.set_title('구 별 미세먼지')\n",
    "ax.set_xticklabels(ax.get_xticklabels(), \n",
    "                   rotation=90,\n",
    "                   fontsize= 15\n",
    "                 )"
   ]
  },
  {
   "cell_type": "code",
   "execution_count": 61,
   "metadata": {},
   "outputs": [
    {
     "data": {
      "text/html": [
       "<div>\n",
       "<style scoped>\n",
       "    .dataframe tbody tr th:only-of-type {\n",
       "        vertical-align: middle;\n",
       "    }\n",
       "\n",
       "    .dataframe tbody tr th {\n",
       "        vertical-align: top;\n",
       "    }\n",
       "\n",
       "    .dataframe thead th {\n",
       "        text-align: right;\n",
       "    }\n",
       "</style>\n",
       "<table border=\"1\" class=\"dataframe\">\n",
       "  <thead>\n",
       "    <tr style=\"text-align: right;\">\n",
       "      <th></th>\n",
       "      <th>gu</th>\n",
       "      <th>day</th>\n",
       "      <th>ppm</th>\n",
       "    </tr>\n",
       "  </thead>\n",
       "  <tbody>\n",
       "    <tr>\n",
       "      <th>0</th>\n",
       "      <td>서울시 평균</td>\n",
       "      <td>X1</td>\n",
       "      <td>2.0</td>\n",
       "    </tr>\n",
       "    <tr>\n",
       "      <th>1</th>\n",
       "      <td>종로구</td>\n",
       "      <td>X1</td>\n",
       "      <td>1.0</td>\n",
       "    </tr>\n",
       "    <tr>\n",
       "      <th>2</th>\n",
       "      <td>중구</td>\n",
       "      <td>X1</td>\n",
       "      <td>1.0</td>\n",
       "    </tr>\n",
       "    <tr>\n",
       "      <th>3</th>\n",
       "      <td>용산구</td>\n",
       "      <td>X1</td>\n",
       "      <td>2.0</td>\n",
       "    </tr>\n",
       "    <tr>\n",
       "      <th>4</th>\n",
       "      <td>성동구</td>\n",
       "      <td>X1</td>\n",
       "      <td>2.0</td>\n",
       "    </tr>\n",
       "  </tbody>\n",
       "</table>\n",
       "</div>"
      ],
      "text/plain": [
       "       gu day  ppm\n",
       "0  서울시 평균  X1  2.0\n",
       "1     종로구  X1  1.0\n",
       "2      중구  X1  1.0\n",
       "3     용산구  X1  2.0\n",
       "4     성동구  X1  2.0"
      ]
     },
     "execution_count": 61,
     "metadata": {},
     "output_type": "execute_result"
    }
   ],
   "source": [
    "dm.head()"
   ]
  },
  {
   "cell_type": "code",
   "execution_count": 62,
   "metadata": {},
   "outputs": [
    {
     "data": {
      "text/html": [
       "<div>\n",
       "<style scoped>\n",
       "    .dataframe tbody tr th:only-of-type {\n",
       "        vertical-align: middle;\n",
       "    }\n",
       "\n",
       "    .dataframe tbody tr th {\n",
       "        vertical-align: top;\n",
       "    }\n",
       "\n",
       "    .dataframe thead th {\n",
       "        text-align: right;\n",
       "    }\n",
       "</style>\n",
       "<table border=\"1\" class=\"dataframe\">\n",
       "  <thead>\n",
       "    <tr style=\"text-align: right;\">\n",
       "      <th></th>\n",
       "      <th>gu</th>\n",
       "      <th>day</th>\n",
       "      <th>ppm</th>\n",
       "      <th>good_bad</th>\n",
       "    </tr>\n",
       "  </thead>\n",
       "  <tbody>\n",
       "    <tr>\n",
       "      <th>0</th>\n",
       "      <td>서울시 평균</td>\n",
       "      <td>X1</td>\n",
       "      <td>2.0</td>\n",
       "      <td>나쁨</td>\n",
       "    </tr>\n",
       "    <tr>\n",
       "      <th>1</th>\n",
       "      <td>종로구</td>\n",
       "      <td>X1</td>\n",
       "      <td>1.0</td>\n",
       "      <td>보통</td>\n",
       "    </tr>\n",
       "    <tr>\n",
       "      <th>2</th>\n",
       "      <td>중구</td>\n",
       "      <td>X1</td>\n",
       "      <td>1.0</td>\n",
       "      <td>보통</td>\n",
       "    </tr>\n",
       "    <tr>\n",
       "      <th>3</th>\n",
       "      <td>용산구</td>\n",
       "      <td>X1</td>\n",
       "      <td>2.0</td>\n",
       "      <td>나쁨</td>\n",
       "    </tr>\n",
       "    <tr>\n",
       "      <th>4</th>\n",
       "      <td>성동구</td>\n",
       "      <td>X1</td>\n",
       "      <td>2.0</td>\n",
       "      <td>나쁨</td>\n",
       "    </tr>\n",
       "  </tbody>\n",
       "</table>\n",
       "</div>"
      ],
      "text/plain": [
       "       gu day  ppm good_bad\n",
       "0  서울시 평균  X1  2.0       나쁨\n",
       "1     종로구  X1  1.0       보통\n",
       "2      중구  X1  1.0       보통\n",
       "3     용산구  X1  2.0       나쁨\n",
       "4     성동구  X1  2.0       나쁨"
      ]
     },
     "execution_count": 62,
     "metadata": {},
     "output_type": "execute_result"
    }
   ],
   "source": [
    "def g_b(n):\n",
    "    if n == 0:\n",
    "        return \"좋음\"\n",
    "    elif n == 1:\n",
    "        return \"보통\"\n",
    "    elif n == 2:\n",
    "        return \"나쁨\"\n",
    "    else:\n",
    "        return \"매우나쁨\"\n",
    "\n",
    "dm['good_bad'] = dm['ppm'].apply(g_b)\n",
    "dm.head()"
   ]
  },
  {
   "cell_type": "code",
   "execution_count": 74,
   "metadata": {},
   "outputs": [
    {
     "data": {
      "image/png": "[encoded data removed]",
      "text/plain": [
       "<Figure size 1080x720 with 1 Axes>"
      ]
     },
     "metadata": {
      "needs_background": "light"
     },
     "output_type": "display_data"
    }
   ],
   "source": [
    "ax = plt.subplots(figsize = (15, 10))\n",
    "ax = sns.countplot(data = dm, x = 'gu', hue = 'good_bad')\n",
    "ax.set_title('구별 미세먼지 농도')\n",
    "ax.set_xlabel('서울시 행정구역')\n",
    "ax.set_ylabel('미세먼지 농도')\n",
    "plt.xticks(rotation = 70)\n",
    "plt.show()"
   ]
  },
  {
   "cell_type": "code",
   "execution_count": null,
   "metadata": {},
   "outputs": [],
   "source": []
  }
 ],
 "metadata": {
  "kernelspec": {
   "display_name": "Python 3",
   "language": "python",
   "name": "python3"
  },
  "language_info": {
   "codemirror_mode": {
    "name": "ipython",
    "version": 3
   },
   "file_extension": ".py",
   "mimetype": "text/x-python",
   "name": "python",
   "nbconvert_exporter": "python",
   "pygments_lexer": "ipython3",
   "version": "3.8.3"
  }
 },
 "nbformat": 4,
 "nbformat_minor": 4
}
